{
 "cells": [
  {
   "cell_type": "code",
   "execution_count": 5,
   "metadata": {},
   "outputs": [],
   "source": [
    "import numpy as np\n",
    "import cv2\n",
    "import winsound"
   ]
  },
  {
   "cell_type": "code",
   "execution_count": 6,
   "metadata": {},
   "outputs": [],
   "source": [
    "eye_detect=cv2.CascadeClassifier('haarcascade_eye.xml')\n",
    "eye_detect.load('haarcascade_eye.xml')\n",
    "frequency = 2500 \n",
    "duration = 1000"
   ]
  },
  {
   "cell_type": "code",
   "execution_count": 7,
   "metadata": {},
   "outputs": [],
   "source": [
    "cap=cv2.VideoCapture(0)\n",
    "while (True):\n",
    "    state,pix=cap.read()\n",
    "    if not state:\n",
    "        print('No frame captured')\n",
    "        \n",
    "    pix=cv2.resize(pix,(640,480))\n",
    "    \n",
    "    eyes=eye_detect.detectMultiScale(pix,scaleFactor=1.1,minSize=(50,50),minNeighbors=5,flags=cv2.CASCADE_SCALE_IMAGE)\n",
    "    if(len(eyes)==0):\n",
    "        winsound.Beep(frequency, duration)\n",
    "    for (x,y,w,h) in eyes:\n",
    "        cv2.rectangle(pix,(x,y),(x+w,y+h),(0,255,0),2)\n",
    "\n",
    "    cv2.imshow('img',pix)\n",
    "    if cv2.waitKey(1) & 0xFF == ord('q'):\n",
    "        break\n",
    "\n",
    "cap.release()\n",
    "cv2.destroyAllWindows()"
   ]
  },
  {
   "cell_type": "code",
   "execution_count": null,
   "metadata": {},
   "outputs": [],
   "source": [
    "\n"
   ]
  },
  {
   "cell_type": "code",
   "execution_count": null,
   "metadata": {},
   "outputs": [],
   "source": []
  }
 ],
 "metadata": {
  "kernelspec": {
   "display_name": "Python 3",
   "language": "python",
   "name": "python3"
  },
  "language_info": {
   "codemirror_mode": {
    "name": "ipython",
    "version": 3
   },
   "file_extension": ".py",
   "mimetype": "text/x-python",
   "name": "python",
   "nbconvert_exporter": "python",
   "pygments_lexer": "ipython3",
   "version": "3.7.0"
  }
 },
 "nbformat": 4,
 "nbformat_minor": 2
}
